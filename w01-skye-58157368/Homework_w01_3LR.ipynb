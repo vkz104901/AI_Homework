{
 "cells": [
  {
   "cell_type": "markdown",
   "metadata": {},
   "source": [
    "# 第01周作业：Ames房价线性回归 Linear Regression\n",
    "根据房屋的特征来预测亚美尼亚州洛瓦市（Ames，Lowa）的房价。\n",
    "其中房屋的特征 x 共有 79 维，响应值 y 为每个房屋的销售价格（SalePrice）。 \n",
    "训练和测试 3 个线性回归模型（最小二乘、岭回归、 Lasso），进行正则超参数的调优，并对模型的性能和预测能力进行测试。\n",
    "评价标准为预测值的对数和观测值的对数的 RMSE(Root-Mean-Squared-Error )。\n",
    "\n",
    "## 这里读取的是数据探索2 处理之后的数据\n",
    "## 代码版本 Python3"
   ]
  },
  {
   "cell_type": "code",
   "execution_count": 10,
   "metadata": {},
   "outputs": [
    {
     "data": {
      "text/html": [
       "<div>\n",
       "<style>\n",
       "    .dataframe thead tr:only-child th {\n",
       "        text-align: right;\n",
       "    }\n",
       "\n",
       "    .dataframe thead th {\n",
       "        text-align: left;\n",
       "    }\n",
       "\n",
       "    .dataframe tbody tr th {\n",
       "        vertical-align: top;\n",
       "    }\n",
       "</style>\n",
       "<table border=\"1\" class=\"dataframe\">\n",
       "  <thead>\n",
       "    <tr style=\"text-align: right;\">\n",
       "      <th></th>\n",
       "      <th>LotFrontage</th>\n",
       "      <th>LotArea</th>\n",
       "      <th>LotShape</th>\n",
       "      <th>YearBuilt</th>\n",
       "      <th>YearRemodAdd</th>\n",
       "      <th>MasVnrArea</th>\n",
       "      <th>BsmtQual</th>\n",
       "      <th>BsmtCond</th>\n",
       "      <th>BsmtExposure</th>\n",
       "      <th>BsmtFinType1</th>\n",
       "      <th>...</th>\n",
       "      <th>KitchenScore</th>\n",
       "      <th>FireplaceScore</th>\n",
       "      <th>GarageScore</th>\n",
       "      <th>TotalBath</th>\n",
       "      <th>AllSF</th>\n",
       "      <th>AllFlrsSF</th>\n",
       "      <th>AllPorchSF</th>\n",
       "      <th>HasMasVnr</th>\n",
       "      <th>BoughtOffPlan</th>\n",
       "      <th>SalePrice</th>\n",
       "    </tr>\n",
       "  </thead>\n",
       "  <tbody>\n",
       "    <tr>\n",
       "      <th>0</th>\n",
       "      <td>0.227</td>\n",
       "      <td>-0.203</td>\n",
       "      <td>0.701</td>\n",
       "      <td>1.054</td>\n",
       "      <td>0.881</td>\n",
       "      <td>0.534</td>\n",
       "      <td>0.950</td>\n",
       "      <td>-0.073</td>\n",
       "      <td>-0.629</td>\n",
       "      <td>0.891</td>\n",
       "      <td>...</td>\n",
       "      <td>0.936</td>\n",
       "      <td>-0.952</td>\n",
       "      <td>0.307</td>\n",
       "      <td>1.665</td>\n",
       "      <td>0.012</td>\n",
       "      <td>0.426</td>\n",
       "      <td>-0.246</td>\n",
       "      <td>1.220</td>\n",
       "      <td>-0.304</td>\n",
       "      <td>208500</td>\n",
       "    </tr>\n",
       "    <tr>\n",
       "      <th>1</th>\n",
       "      <td>0.670</td>\n",
       "      <td>-0.086</td>\n",
       "      <td>0.701</td>\n",
       "      <td>0.159</td>\n",
       "      <td>-0.427</td>\n",
       "      <td>-0.574</td>\n",
       "      <td>0.950</td>\n",
       "      <td>-0.073</td>\n",
       "      <td>2.272</td>\n",
       "      <td>0.891</td>\n",
       "      <td>...</td>\n",
       "      <td>-1.002</td>\n",
       "      <td>0.610</td>\n",
       "      <td>-0.081</td>\n",
       "      <td>0.380</td>\n",
       "      <td>-0.044</td>\n",
       "      <td>-0.485</td>\n",
       "      <td>-0.828</td>\n",
       "      <td>-0.820</td>\n",
       "      <td>-0.304</td>\n",
       "      <td>181500</td>\n",
       "    </tr>\n",
       "    <tr>\n",
       "      <th>2</th>\n",
       "      <td>0.316</td>\n",
       "      <td>0.081</td>\n",
       "      <td>-1.029</td>\n",
       "      <td>0.988</td>\n",
       "      <td>0.832</td>\n",
       "      <td>0.342</td>\n",
       "      <td>0.950</td>\n",
       "      <td>-0.073</td>\n",
       "      <td>0.338</td>\n",
       "      <td>0.891</td>\n",
       "      <td>...</td>\n",
       "      <td>0.936</td>\n",
       "      <td>0.610</td>\n",
       "      <td>0.571</td>\n",
       "      <td>1.665</td>\n",
       "      <td>0.196</td>\n",
       "      <td>0.580</td>\n",
       "      <td>-0.427</td>\n",
       "      <td>1.220</td>\n",
       "      <td>-0.304</td>\n",
       "      <td>223500</td>\n",
       "    </tr>\n",
       "    <tr>\n",
       "      <th>3</th>\n",
       "      <td>0.080</td>\n",
       "      <td>-0.091</td>\n",
       "      <td>-1.029</td>\n",
       "      <td>-1.861</td>\n",
       "      <td>-0.718</td>\n",
       "      <td>-0.574</td>\n",
       "      <td>-0.875</td>\n",
       "      <td>3.715</td>\n",
       "      <td>-0.629</td>\n",
       "      <td>0.891</td>\n",
       "      <td>...</td>\n",
       "      <td>0.936</td>\n",
       "      <td>0.610</td>\n",
       "      <td>0.720</td>\n",
       "      <td>-0.263</td>\n",
       "      <td>-0.111</td>\n",
       "      <td>0.440</td>\n",
       "      <td>2.101</td>\n",
       "      <td>-0.820</td>\n",
       "      <td>-0.304</td>\n",
       "      <td>140000</td>\n",
       "    </tr>\n",
       "    <tr>\n",
       "      <th>4</th>\n",
       "      <td>0.789</td>\n",
       "      <td>0.387</td>\n",
       "      <td>-1.029</td>\n",
       "      <td>0.954</td>\n",
       "      <td>0.735</td>\n",
       "      <td>1.404</td>\n",
       "      <td>0.950</td>\n",
       "      <td>-0.073</td>\n",
       "      <td>1.305</td>\n",
       "      <td>0.891</td>\n",
       "      <td>...</td>\n",
       "      <td>0.936</td>\n",
       "      <td>0.610</td>\n",
       "      <td>1.574</td>\n",
       "      <td>1.665</td>\n",
       "      <td>1.034</td>\n",
       "      <td>1.418</td>\n",
       "      <td>-0.026</td>\n",
       "      <td>1.220</td>\n",
       "      <td>-0.304</td>\n",
       "      <td>250000</td>\n",
       "    </tr>\n",
       "    <tr>\n",
       "      <th>5</th>\n",
       "      <td>0.818</td>\n",
       "      <td>0.372</td>\n",
       "      <td>-1.029</td>\n",
       "      <td>0.723</td>\n",
       "      <td>0.493</td>\n",
       "      <td>-0.574</td>\n",
       "      <td>0.950</td>\n",
       "      <td>-0.073</td>\n",
       "      <td>-0.629</td>\n",
       "      <td>0.891</td>\n",
       "      <td>...</td>\n",
       "      <td>-1.002</td>\n",
       "      <td>-0.952</td>\n",
       "      <td>0.007</td>\n",
       "      <td>0.380</td>\n",
       "      <td>-0.525</td>\n",
       "      <td>-0.282</td>\n",
       "      <td>2.511</td>\n",
       "      <td>-0.820</td>\n",
       "      <td>-0.304</td>\n",
       "      <td>143000</td>\n",
       "    </tr>\n",
       "  </tbody>\n",
       "</table>\n",
       "<p>6 rows × 33 columns</p>\n",
       "</div>"
      ],
      "text/plain": [
       "   LotFrontage  LotArea  LotShape  YearBuilt  YearRemodAdd  MasVnrArea  \\\n",
       "0        0.227   -0.203     0.701      1.054         0.881       0.534   \n",
       "1        0.670   -0.086     0.701      0.159        -0.427      -0.574   \n",
       "2        0.316    0.081    -1.029      0.988         0.832       0.342   \n",
       "3        0.080   -0.091    -1.029     -1.861        -0.718      -0.574   \n",
       "4        0.789    0.387    -1.029      0.954         0.735       1.404   \n",
       "5        0.818    0.372    -1.029      0.723         0.493      -0.574   \n",
       "\n",
       "   BsmtQual  BsmtCond  BsmtExposure  BsmtFinType1    ...      KitchenScore  \\\n",
       "0     0.950    -0.073        -0.629         0.891    ...             0.936   \n",
       "1     0.950    -0.073         2.272         0.891    ...            -1.002   \n",
       "2     0.950    -0.073         0.338         0.891    ...             0.936   \n",
       "3    -0.875     3.715        -0.629         0.891    ...             0.936   \n",
       "4     0.950    -0.073         1.305         0.891    ...             0.936   \n",
       "5     0.950    -0.073        -0.629         0.891    ...            -1.002   \n",
       "\n",
       "   FireplaceScore GarageScore  TotalBath  AllSF  AllFlrsSF  AllPorchSF  \\\n",
       "0          -0.952       0.307      1.665  0.012      0.426      -0.246   \n",
       "1           0.610      -0.081      0.380 -0.044     -0.485      -0.828   \n",
       "2           0.610       0.571      1.665  0.196      0.580      -0.427   \n",
       "3           0.610       0.720     -0.263 -0.111      0.440       2.101   \n",
       "4           0.610       1.574      1.665  1.034      1.418      -0.026   \n",
       "5          -0.952       0.007      0.380 -0.525     -0.282       2.511   \n",
       "\n",
       "   HasMasVnr  BoughtOffPlan  SalePrice  \n",
       "0      1.220         -0.304     208500  \n",
       "1     -0.820         -0.304     181500  \n",
       "2      1.220         -0.304     223500  \n",
       "3     -0.820         -0.304     140000  \n",
       "4      1.220         -0.304     250000  \n",
       "5     -0.820         -0.304     143000  \n",
       "\n",
       "[6 rows x 33 columns]"
      ]
     },
     "execution_count": 10,
     "metadata": {},
     "output_type": "execute_result"
    }
   ],
   "source": [
    "# 导入必要的工具包\n",
    "import numpy as np #用于数值计算\n",
    "import pandas as pd #用于数据表处理，数据文件读写\n",
    "\n",
    "import matplotlib.pyplot as plt #用于绘图：分析结果的可视化。\n",
    "import seaborn as sns #用于绘图：分析结果的可视化。封装更好。\n",
    "from IPython.display import display\n",
    "\n",
    "#应该是设置浮点数的形式格式，小数点后三位\n",
    "pd.set_option('display.float_format', lambda x: '%.3f' % x)\n",
    "\n",
    "#这一行是干嘛的？ 设置 matplotlib 让绘制的图形出现在 Notebook 里而不是新窗口\n",
    "%matplotlib inline\n",
    "\n",
    "#读取训练数据: \n",
    "dpath = './data/'\n",
    "data = pd.read_csv(dpath + 'AmesHouse_FE_DE2_train.csv')\n",
    "data.head(6) #查看数据的前几行，默认是 5 "
   ]
  },
  {
   "cell_type": "code",
   "execution_count": 11,
   "metadata": {},
   "outputs": [
    {
     "data": {
      "text/html": [
       "<div>\n",
       "<style>\n",
       "    .dataframe thead tr:only-child th {\n",
       "        text-align: right;\n",
       "    }\n",
       "\n",
       "    .dataframe thead th {\n",
       "        text-align: left;\n",
       "    }\n",
       "\n",
       "    .dataframe tbody tr th {\n",
       "        vertical-align: top;\n",
       "    }\n",
       "</style>\n",
       "<table border=\"1\" class=\"dataframe\">\n",
       "  <thead>\n",
       "    <tr style=\"text-align: right;\">\n",
       "      <th></th>\n",
       "      <th>LotFrontage</th>\n",
       "      <th>LotArea</th>\n",
       "      <th>LotShape</th>\n",
       "      <th>YearBuilt</th>\n",
       "      <th>YearRemodAdd</th>\n",
       "      <th>MasVnrArea</th>\n",
       "      <th>BsmtQual</th>\n",
       "      <th>BsmtCond</th>\n",
       "      <th>BsmtExposure</th>\n",
       "      <th>BsmtFinType1</th>\n",
       "      <th>...</th>\n",
       "      <th>KitchenScore</th>\n",
       "      <th>FireplaceScore</th>\n",
       "      <th>GarageScore</th>\n",
       "      <th>TotalBath</th>\n",
       "      <th>AllSF</th>\n",
       "      <th>AllFlrsSF</th>\n",
       "      <th>AllPorchSF</th>\n",
       "      <th>HasMasVnr</th>\n",
       "      <th>BoughtOffPlan</th>\n",
       "      <th>SalePrice</th>\n",
       "    </tr>\n",
       "  </thead>\n",
       "  <tbody>\n",
       "    <tr>\n",
       "      <th>count</th>\n",
       "      <td>1454.000</td>\n",
       "      <td>1454.000</td>\n",
       "      <td>1454.000</td>\n",
       "      <td>1454.000</td>\n",
       "      <td>1454.000</td>\n",
       "      <td>1454.000</td>\n",
       "      <td>1454.000</td>\n",
       "      <td>1454.000</td>\n",
       "      <td>1454.000</td>\n",
       "      <td>1454.000</td>\n",
       "      <td>...</td>\n",
       "      <td>1454.000</td>\n",
       "      <td>1454.000</td>\n",
       "      <td>1454.000</td>\n",
       "      <td>1454.000</td>\n",
       "      <td>1454.000</td>\n",
       "      <td>1454.000</td>\n",
       "      <td>1454.000</td>\n",
       "      <td>1454.000</td>\n",
       "      <td>1454.000</td>\n",
       "      <td>1454.000</td>\n",
       "    </tr>\n",
       "    <tr>\n",
       "      <th>mean</th>\n",
       "      <td>-0.002</td>\n",
       "      <td>-0.002</td>\n",
       "      <td>0.001</td>\n",
       "      <td>-0.001</td>\n",
       "      <td>-0.001</td>\n",
       "      <td>-0.008</td>\n",
       "      <td>-0.001</td>\n",
       "      <td>0.000</td>\n",
       "      <td>-0.003</td>\n",
       "      <td>-0.001</td>\n",
       "      <td>...</td>\n",
       "      <td>-0.001</td>\n",
       "      <td>-0.002</td>\n",
       "      <td>-0.002</td>\n",
       "      <td>-0.003</td>\n",
       "      <td>-0.005</td>\n",
       "      <td>-0.004</td>\n",
       "      <td>0.000</td>\n",
       "      <td>-0.002</td>\n",
       "      <td>-0.002</td>\n",
       "      <td>179548.514</td>\n",
       "    </tr>\n",
       "    <tr>\n",
       "      <th>std</th>\n",
       "      <td>0.999</td>\n",
       "      <td>0.999</td>\n",
       "      <td>1.000</td>\n",
       "      <td>1.000</td>\n",
       "      <td>1.000</td>\n",
       "      <td>0.978</td>\n",
       "      <td>1.000</td>\n",
       "      <td>1.001</td>\n",
       "      <td>0.997</td>\n",
       "      <td>1.000</td>\n",
       "      <td>...</td>\n",
       "      <td>1.000</td>\n",
       "      <td>0.999</td>\n",
       "      <td>1.000</td>\n",
       "      <td>0.997</td>\n",
       "      <td>0.993</td>\n",
       "      <td>0.994</td>\n",
       "      <td>1.001</td>\n",
       "      <td>1.000</td>\n",
       "      <td>0.997</td>\n",
       "      <td>75005.063</td>\n",
       "    </tr>\n",
       "    <tr>\n",
       "      <th>min</th>\n",
       "      <td>-1.692</td>\n",
       "      <td>-0.928</td>\n",
       "      <td>-4.487</td>\n",
       "      <td>-3.285</td>\n",
       "      <td>-1.687</td>\n",
       "      <td>-0.574</td>\n",
       "      <td>-2.699</td>\n",
       "      <td>-3.861</td>\n",
       "      <td>-0.629</td>\n",
       "      <td>-2.757</td>\n",
       "      <td>...</td>\n",
       "      <td>-2.941</td>\n",
       "      <td>-0.952</td>\n",
       "      <td>-2.105</td>\n",
       "      <td>-1.549</td>\n",
       "      <td>-2.924</td>\n",
       "      <td>-2.371</td>\n",
       "      <td>-0.828</td>\n",
       "      <td>-0.820</td>\n",
       "      <td>-0.304</td>\n",
       "      <td>34900.000</td>\n",
       "    </tr>\n",
       "    <tr>\n",
       "      <th>25%</th>\n",
       "      <td>-0.452</td>\n",
       "      <td>-0.295</td>\n",
       "      <td>-1.029</td>\n",
       "      <td>-0.569</td>\n",
       "      <td>-0.899</td>\n",
       "      <td>-0.574</td>\n",
       "      <td>-0.875</td>\n",
       "      <td>-0.073</td>\n",
       "      <td>-0.629</td>\n",
       "      <td>-0.933</td>\n",
       "      <td>...</td>\n",
       "      <td>-1.002</td>\n",
       "      <td>-0.952</td>\n",
       "      <td>-0.626</td>\n",
       "      <td>-0.263</td>\n",
       "      <td>-0.716</td>\n",
       "      <td>-0.769</td>\n",
       "      <td>-0.828</td>\n",
       "      <td>-0.820</td>\n",
       "      <td>-0.304</td>\n",
       "      <td>129900.000</td>\n",
       "    </tr>\n",
       "    <tr>\n",
       "      <th>50%</th>\n",
       "      <td>0.168</td>\n",
       "      <td>-0.100</td>\n",
       "      <td>0.701</td>\n",
       "      <td>0.027</td>\n",
       "      <td>0.396</td>\n",
       "      <td>-0.574</td>\n",
       "      <td>0.950</td>\n",
       "      <td>-0.073</td>\n",
       "      <td>-0.629</td>\n",
       "      <td>0.891</td>\n",
       "      <td>...</td>\n",
       "      <td>0.936</td>\n",
       "      <td>0.610</td>\n",
       "      <td>0.007</td>\n",
       "      <td>-0.263</td>\n",
       "      <td>-0.109</td>\n",
       "      <td>-0.091</td>\n",
       "      <td>-0.370</td>\n",
       "      <td>-0.820</td>\n",
       "      <td>-0.304</td>\n",
       "      <td>162950.000</td>\n",
       "    </tr>\n",
       "    <tr>\n",
       "      <th>75%</th>\n",
       "      <td>0.633</td>\n",
       "      <td>0.111</td>\n",
       "      <td>0.701</td>\n",
       "      <td>0.954</td>\n",
       "      <td>0.929</td>\n",
       "      <td>0.342</td>\n",
       "      <td>0.950</td>\n",
       "      <td>-0.073</td>\n",
       "      <td>0.338</td>\n",
       "      <td>0.891</td>\n",
       "      <td>...</td>\n",
       "      <td>0.936</td>\n",
       "      <td>0.610</td>\n",
       "      <td>0.430</td>\n",
       "      <td>0.380</td>\n",
       "      <td>0.585</td>\n",
       "      <td>0.548</td>\n",
       "      <td>0.470</td>\n",
       "      <td>1.220</td>\n",
       "      <td>-0.304</td>\n",
       "      <td>213500.000</td>\n",
       "    </tr>\n",
       "    <tr>\n",
       "      <th>max</th>\n",
       "      <td>7.550</td>\n",
       "      <td>20.776</td>\n",
       "      <td>0.701</td>\n",
       "      <td>1.286</td>\n",
       "      <td>1.220</td>\n",
       "      <td>8.468</td>\n",
       "      <td>0.950</td>\n",
       "      <td>3.715</td>\n",
       "      <td>2.272</td>\n",
       "      <td>0.891</td>\n",
       "      <td>...</td>\n",
       "      <td>4.812</td>\n",
       "      <td>3.735</td>\n",
       "      <td>6.028</td>\n",
       "      <td>4.879</td>\n",
       "      <td>5.091</td>\n",
       "      <td>4.050</td>\n",
       "      <td>8.970</td>\n",
       "      <td>1.220</td>\n",
       "      <td>3.292</td>\n",
       "      <td>582933.000</td>\n",
       "    </tr>\n",
       "  </tbody>\n",
       "</table>\n",
       "<p>8 rows × 32 columns</p>\n",
       "</div>"
      ],
      "text/plain": [
       "       LotFrontage  LotArea  LotShape  YearBuilt  YearRemodAdd  MasVnrArea  \\\n",
       "count     1454.000 1454.000  1454.000   1454.000      1454.000    1454.000   \n",
       "mean        -0.002   -0.002     0.001     -0.001        -0.001      -0.008   \n",
       "std          0.999    0.999     1.000      1.000         1.000       0.978   \n",
       "min         -1.692   -0.928    -4.487     -3.285        -1.687      -0.574   \n",
       "25%         -0.452   -0.295    -1.029     -0.569        -0.899      -0.574   \n",
       "50%          0.168   -0.100     0.701      0.027         0.396      -0.574   \n",
       "75%          0.633    0.111     0.701      0.954         0.929       0.342   \n",
       "max          7.550   20.776     0.701      1.286         1.220       8.468   \n",
       "\n",
       "       BsmtQual  BsmtCond  BsmtExposure  BsmtFinType1    ...      \\\n",
       "count  1454.000  1454.000      1454.000      1454.000    ...       \n",
       "mean     -0.001     0.000        -0.003        -0.001    ...       \n",
       "std       1.000     1.001         0.997         1.000    ...       \n",
       "min      -2.699    -3.861        -0.629        -2.757    ...       \n",
       "25%      -0.875    -0.073        -0.629        -0.933    ...       \n",
       "50%       0.950    -0.073        -0.629         0.891    ...       \n",
       "75%       0.950    -0.073         0.338         0.891    ...       \n",
       "max       0.950     3.715         2.272         0.891    ...       \n",
       "\n",
       "       KitchenScore  FireplaceScore  GarageScore  TotalBath    AllSF  \\\n",
       "count      1454.000        1454.000     1454.000   1454.000 1454.000   \n",
       "mean         -0.001          -0.002       -0.002     -0.003   -0.005   \n",
       "std           1.000           0.999        1.000      0.997    0.993   \n",
       "min          -2.941          -0.952       -2.105     -1.549   -2.924   \n",
       "25%          -1.002          -0.952       -0.626     -0.263   -0.716   \n",
       "50%           0.936           0.610        0.007     -0.263   -0.109   \n",
       "75%           0.936           0.610        0.430      0.380    0.585   \n",
       "max           4.812           3.735        6.028      4.879    5.091   \n",
       "\n",
       "       AllFlrsSF  AllPorchSF  HasMasVnr  BoughtOffPlan  SalePrice  \n",
       "count   1454.000    1454.000   1454.000       1454.000   1454.000  \n",
       "mean      -0.004       0.000     -0.002         -0.002 179548.514  \n",
       "std        0.994       1.001      1.000          0.997  75005.063  \n",
       "min       -2.371      -0.828     -0.820         -0.304  34900.000  \n",
       "25%       -0.769      -0.828     -0.820         -0.304 129900.000  \n",
       "50%       -0.091      -0.370     -0.820         -0.304 162950.000  \n",
       "75%        0.548       0.470      1.220         -0.304 213500.000  \n",
       "max        4.050       8.970      1.220          3.292 582933.000  \n",
       "\n",
       "[8 rows x 32 columns]"
      ]
     },
     "execution_count": 11,
     "metadata": {},
     "output_type": "execute_result"
    }
   ],
   "source": [
    "## 各属性的统计信息（样本数目、均值、标准差、最小值、最大值、1/4分位数、中值（1/2分位数）、3/4分位数）\n",
    "data.describe()"
   ]
  },
  {
   "cell_type": "code",
   "execution_count": 12,
   "metadata": {},
   "outputs": [
    {
     "name": "stdout",
     "output_type": "stream",
     "text": [
      "<class 'pandas.core.frame.DataFrame'>\n",
      "RangeIndex: 1454 entries, 0 to 1453\n",
      "Data columns (total 33 columns):\n",
      "LotFrontage       1454 non-null float64\n",
      "LotArea           1454 non-null float64\n",
      "LotShape          1454 non-null float64\n",
      "YearBuilt         1454 non-null float64\n",
      "YearRemodAdd      1454 non-null float64\n",
      "MasVnrArea        1454 non-null float64\n",
      "BsmtQual          1454 non-null float64\n",
      "BsmtCond          1454 non-null float64\n",
      "BsmtExposure      1454 non-null float64\n",
      "BsmtFinType1      1454 non-null float64\n",
      "BsmtFinSF1        1454 non-null float64\n",
      "BsmtUnfSF         1454 non-null float64\n",
      "HeatingQC         1454 non-null object\n",
      "BedroomAbvGr      1454 non-null float64\n",
      "TotRmsAbvGrd      1454 non-null float64\n",
      "Functional        1454 non-null float64\n",
      "GarageYrBlt       1454 non-null float64\n",
      "GarageCars        1454 non-null float64\n",
      "PavedDrive        1454 non-null float64\n",
      "WoodDeckSF        1454 non-null float64\n",
      "OverallGrade      1454 non-null float64\n",
      "GarageGrade       1454 non-null float64\n",
      "ExterGrade        1454 non-null float64\n",
      "KitchenScore      1454 non-null float64\n",
      "FireplaceScore    1454 non-null float64\n",
      "GarageScore       1454 non-null float64\n",
      "TotalBath         1454 non-null float64\n",
      "AllSF             1454 non-null float64\n",
      "AllFlrsSF         1454 non-null float64\n",
      "AllPorchSF        1454 non-null float64\n",
      "HasMasVnr         1454 non-null float64\n",
      "BoughtOffPlan     1454 non-null float64\n",
      "SalePrice         1454 non-null int64\n",
      "dtypes: float64(31), int64(1), object(1)\n",
      "memory usage: 374.9+ KB\n"
     ]
    }
   ],
   "source": [
    "data.info()  #查看数据基本信息，各个特征的数据类型 "
   ]
  },
  {
   "cell_type": "code",
   "execution_count": 13,
   "metadata": {
    "collapsed": true
   },
   "outputs": [],
   "source": [
    "# HeatingQC 不知道为什么变成了 object 类型，转换为 float 类型 '-143%' 异常值\n",
    "#data.HeatingQC.values = [float(value) for value in data.HeatingQC.values]\n",
    "ls = []\n",
    "for value in data.HeatingQC.values:\n",
    "    if value == '-143%':\n",
    "        value = -1.43\n",
    "    ls.append(float(value))\n",
    "data.HeatingQC = ls\n",
    "#print(data.HeatingQC)"
   ]
  },
  {
   "cell_type": "code",
   "execution_count": 14,
   "metadata": {},
   "outputs": [
    {
     "name": "stdout",
     "output_type": "stream",
     "text": [
      "<class 'pandas.core.frame.DataFrame'>\n",
      "RangeIndex: 1454 entries, 0 to 1453\n",
      "Data columns (total 33 columns):\n",
      "LotFrontage       1454 non-null float64\n",
      "LotArea           1454 non-null float64\n",
      "LotShape          1454 non-null float64\n",
      "YearBuilt         1454 non-null float64\n",
      "YearRemodAdd      1454 non-null float64\n",
      "MasVnrArea        1454 non-null float64\n",
      "BsmtQual          1454 non-null float64\n",
      "BsmtCond          1454 non-null float64\n",
      "BsmtExposure      1454 non-null float64\n",
      "BsmtFinType1      1454 non-null float64\n",
      "BsmtFinSF1        1454 non-null float64\n",
      "BsmtUnfSF         1454 non-null float64\n",
      "HeatingQC         1454 non-null float64\n",
      "BedroomAbvGr      1454 non-null float64\n",
      "TotRmsAbvGrd      1454 non-null float64\n",
      "Functional        1454 non-null float64\n",
      "GarageYrBlt       1454 non-null float64\n",
      "GarageCars        1454 non-null float64\n",
      "PavedDrive        1454 non-null float64\n",
      "WoodDeckSF        1454 non-null float64\n",
      "OverallGrade      1454 non-null float64\n",
      "GarageGrade       1454 non-null float64\n",
      "ExterGrade        1454 non-null float64\n",
      "KitchenScore      1454 non-null float64\n",
      "FireplaceScore    1454 non-null float64\n",
      "GarageScore       1454 non-null float64\n",
      "TotalBath         1454 non-null float64\n",
      "AllSF             1454 non-null float64\n",
      "AllFlrsSF         1454 non-null float64\n",
      "AllPorchSF        1454 non-null float64\n",
      "HasMasVnr         1454 non-null float64\n",
      "BoughtOffPlan     1454 non-null float64\n",
      "SalePrice         1454 non-null int64\n",
      "dtypes: float64(32), int64(1)\n",
      "memory usage: 374.9 KB\n"
     ]
    }
   ],
   "source": [
    "data.info() #查看各个特征的数据类型 "
   ]
  },
  {
   "cell_type": "code",
   "execution_count": 15,
   "metadata": {
    "collapsed": true
   },
   "outputs": [],
   "source": [
    "# 从原始数据中分离输入特征x和输出y\n",
    "y = data['SalePrice'].values\n",
    "X = data.drop('SalePrice', axis = 1)"
   ]
  },
  {
   "cell_type": "markdown",
   "metadata": {},
   "source": [
    "当数据量比较大时(多大？100？1000？)，可用 train_test_split 从训练集中分出一部分做校验集； \n",
    "\n",
    "样本数目较少时（多少？100？10？），建议用交叉验证。\n",
    "\n",
    "在线性回归中，留一交叉验证有简便计算方式（能否详细介绍？举例说明），无需显式交叉验证。\n",
    "\n",
    "下面将训练数据分割成训练集和测试集，用于对模型的训练误差、校验集上的测试误差估计、和测试集上的测试误差做个比较。\n",
    "\n",
    "实际任务中无需这么处理。为什么？不这么处理，怎么比较误差？"
   ]
  },
  {
   "cell_type": "code",
   "execution_count": 16,
   "metadata": {
    "collapsed": true
   },
   "outputs": [],
   "source": [
    "#将数据分割: 训练数据与测试数据\n",
    "from sklearn.cross_validation import train_test_split\n",
    "\n",
    "# 随机采样 25% (test_size 设置？应该是 0.25 吧？)的数据构建测试样本，其余作为训练样本\n",
    "X_train, X_test, y_train, y_test = train_test_split(X, y, random_state=33, test_size=0.2)"
   ]
  },
  {
   "cell_type": "markdown",
   "metadata": {},
   "source": [
    "警告 cross_validation 这个模块将被移除，新模块是什么？如何调用？\n",
    "#### 对输出 y 也要进行标准化？下面示例代码"
   ]
  },
  {
   "cell_type": "code",
   "execution_count": null,
   "metadata": {
    "collapsed": true
   },
   "outputs": [],
   "source": [
    "''' 这个是授课示例代码 \n",
    "# 数据标准化\n",
    "from sklearn.preprocessing import StandardScaler\n",
    "\n",
    "# 分别初始化对特征和目标值的标准化器\n",
    "ss_X = StandardScaler()\n",
    "ss_y = StandardScaler()\n",
    "\n",
    "# 分别对训练和测试数据的特征以及目标值进行标准化处理\n",
    "X_train = ss_X.fit_transform(X_train)\n",
    "X_test = ss_X.transform(X_test)\n",
    "\n",
    "#y_train = ss_y.fit_transform(y_train)\n",
    "#y_test = ss_y.transform(y_test)\n",
    "\n",
    "y_train = ss_y.fit_transform(y_train.reshape(-1, 1))\n",
    "y_test = ss_y.transform(y_test.reshape(-1, 1))\n",
    "'''"
   ]
  },
  {
   "cell_type": "code",
   "execution_count": 17,
   "metadata": {},
   "outputs": [
    {
     "data": {
      "text/html": [
       "<div>\n",
       "<style>\n",
       "    .dataframe thead tr:only-child th {\n",
       "        text-align: right;\n",
       "    }\n",
       "\n",
       "    .dataframe thead th {\n",
       "        text-align: left;\n",
       "    }\n",
       "\n",
       "    .dataframe tbody tr th {\n",
       "        vertical-align: top;\n",
       "    }\n",
       "</style>\n",
       "<table border=\"1\" class=\"dataframe\">\n",
       "  <thead>\n",
       "    <tr style=\"text-align: right;\">\n",
       "      <th></th>\n",
       "      <th>Id</th>\n",
       "      <th>LotFrontage</th>\n",
       "      <th>LotArea</th>\n",
       "      <th>LotShape</th>\n",
       "      <th>YearBuilt</th>\n",
       "      <th>YearRemodAdd</th>\n",
       "      <th>MasVnrArea</th>\n",
       "      <th>BsmtQual</th>\n",
       "      <th>BsmtCond</th>\n",
       "      <th>BsmtExposure</th>\n",
       "      <th>...</th>\n",
       "      <th>ExterGrade</th>\n",
       "      <th>KitchenScore</th>\n",
       "      <th>FireplaceScore</th>\n",
       "      <th>GarageScore</th>\n",
       "      <th>TotalBath</th>\n",
       "      <th>AllSF</th>\n",
       "      <th>AllFlrsSF</th>\n",
       "      <th>AllPorchSF</th>\n",
       "      <th>HasMasVnr</th>\n",
       "      <th>BoughtOffPlan</th>\n",
       "    </tr>\n",
       "  </thead>\n",
       "  <tbody>\n",
       "    <tr>\n",
       "      <th>0</th>\n",
       "      <td>1461</td>\n",
       "      <td>0.670</td>\n",
       "      <td>0.119</td>\n",
       "      <td>0.701</td>\n",
       "      <td>-0.337</td>\n",
       "      <td>-1.154</td>\n",
       "      <td>-0.574</td>\n",
       "      <td>-0.875</td>\n",
       "      <td>-0.073</td>\n",
       "      <td>-0.629</td>\n",
       "      <td>...</td>\n",
       "      <td>-0.776</td>\n",
       "      <td>-1.002</td>\n",
       "      <td>-0.952</td>\n",
       "      <td>1.108</td>\n",
       "      <td>-1.549</td>\n",
       "      <td>-1.025</td>\n",
       "      <td>-1.229</td>\n",
       "      <td>0.317</td>\n",
       "      <td>-0.820</td>\n",
       "      <td>-0.304</td>\n",
       "    </tr>\n",
       "    <tr>\n",
       "      <th>1</th>\n",
       "      <td>1462</td>\n",
       "      <td>0.700</td>\n",
       "      <td>0.387</td>\n",
       "      <td>-1.029</td>\n",
       "      <td>-0.437</td>\n",
       "      <td>-1.299</td>\n",
       "      <td>0.037</td>\n",
       "      <td>-0.875</td>\n",
       "      <td>-0.073</td>\n",
       "      <td>-0.629</td>\n",
       "      <td>...</td>\n",
       "      <td>-0.776</td>\n",
       "      <td>0.936</td>\n",
       "      <td>-0.952</td>\n",
       "      <td>-0.732</td>\n",
       "      <td>-0.906</td>\n",
       "      <td>0.133</td>\n",
       "      <td>-0.349</td>\n",
       "      <td>-0.484</td>\n",
       "      <td>1.220</td>\n",
       "      <td>-0.304</td>\n",
       "    </tr>\n",
       "    <tr>\n",
       "      <th>2</th>\n",
       "      <td>1463</td>\n",
       "      <td>0.493</td>\n",
       "      <td>0.343</td>\n",
       "      <td>-1.029</td>\n",
       "      <td>0.855</td>\n",
       "      <td>0.638</td>\n",
       "      <td>-0.574</td>\n",
       "      <td>0.950</td>\n",
       "      <td>-0.073</td>\n",
       "      <td>-0.629</td>\n",
       "      <td>...</td>\n",
       "      <td>-0.776</td>\n",
       "      <td>-1.002</td>\n",
       "      <td>0.610</td>\n",
       "      <td>0.016</td>\n",
       "      <td>0.380</td>\n",
       "      <td>-0.000</td>\n",
       "      <td>0.261</td>\n",
       "      <td>-0.503</td>\n",
       "      <td>-0.820</td>\n",
       "      <td>-0.304</td>\n",
       "    </tr>\n",
       "    <tr>\n",
       "      <th>3</th>\n",
       "      <td>1464</td>\n",
       "      <td>0.611</td>\n",
       "      <td>-0.048</td>\n",
       "      <td>-1.029</td>\n",
       "      <td>0.888</td>\n",
       "      <td>0.638</td>\n",
       "      <td>-0.461</td>\n",
       "      <td>-0.875</td>\n",
       "      <td>-0.073</td>\n",
       "      <td>-0.629</td>\n",
       "      <td>...</td>\n",
       "      <td>-0.776</td>\n",
       "      <td>0.936</td>\n",
       "      <td>0.610</td>\n",
       "      <td>-0.037</td>\n",
       "      <td>0.380</td>\n",
       "      <td>-0.036</td>\n",
       "      <td>0.210</td>\n",
       "      <td>-0.484</td>\n",
       "      <td>1.220</td>\n",
       "      <td>-0.304</td>\n",
       "    </tr>\n",
       "    <tr>\n",
       "      <th>4</th>\n",
       "      <td>1465</td>\n",
       "      <td>-0.422</td>\n",
       "      <td>-0.552</td>\n",
       "      <td>-1.029</td>\n",
       "      <td>0.689</td>\n",
       "      <td>0.348</td>\n",
       "      <td>-0.574</td>\n",
       "      <td>0.950</td>\n",
       "      <td>-0.073</td>\n",
       "      <td>-0.629</td>\n",
       "      <td>...</td>\n",
       "      <td>0.784</td>\n",
       "      <td>0.936</td>\n",
       "      <td>-0.952</td>\n",
       "      <td>0.122</td>\n",
       "      <td>-0.263</td>\n",
       "      <td>0.004</td>\n",
       "      <td>-0.448</td>\n",
       "      <td>1.328</td>\n",
       "      <td>-0.820</td>\n",
       "      <td>-0.304</td>\n",
       "    </tr>\n",
       "    <tr>\n",
       "      <th>5</th>\n",
       "      <td>1466</td>\n",
       "      <td>0.523</td>\n",
       "      <td>-0.046</td>\n",
       "      <td>-1.029</td>\n",
       "      <td>0.723</td>\n",
       "      <td>0.445</td>\n",
       "      <td>-0.574</td>\n",
       "      <td>0.950</td>\n",
       "      <td>-0.073</td>\n",
       "      <td>-0.629</td>\n",
       "      <td>...</td>\n",
       "      <td>-0.776</td>\n",
       "      <td>-1.002</td>\n",
       "      <td>0.610</td>\n",
       "      <td>-0.169</td>\n",
       "      <td>0.380</td>\n",
       "      <td>-0.183</td>\n",
       "      <td>0.314</td>\n",
       "      <td>-0.026</td>\n",
       "      <td>-0.820</td>\n",
       "      <td>-0.304</td>\n",
       "    </tr>\n",
       "  </tbody>\n",
       "</table>\n",
       "<p>6 rows × 33 columns</p>\n",
       "</div>"
      ],
      "text/plain": [
       "     Id  LotFrontage  LotArea  LotShape  YearBuilt  YearRemodAdd  MasVnrArea  \\\n",
       "0  1461        0.670    0.119     0.701     -0.337        -1.154      -0.574   \n",
       "1  1462        0.700    0.387    -1.029     -0.437        -1.299       0.037   \n",
       "2  1463        0.493    0.343    -1.029      0.855         0.638      -0.574   \n",
       "3  1464        0.611   -0.048    -1.029      0.888         0.638      -0.461   \n",
       "4  1465       -0.422   -0.552    -1.029      0.689         0.348      -0.574   \n",
       "5  1466        0.523   -0.046    -1.029      0.723         0.445      -0.574   \n",
       "\n",
       "   BsmtQual  BsmtCond  BsmtExposure      ...        ExterGrade  KitchenScore  \\\n",
       "0    -0.875    -0.073        -0.629      ...            -0.776        -1.002   \n",
       "1    -0.875    -0.073        -0.629      ...            -0.776         0.936   \n",
       "2     0.950    -0.073        -0.629      ...            -0.776        -1.002   \n",
       "3    -0.875    -0.073        -0.629      ...            -0.776         0.936   \n",
       "4     0.950    -0.073        -0.629      ...             0.784         0.936   \n",
       "5     0.950    -0.073        -0.629      ...            -0.776        -1.002   \n",
       "\n",
       "   FireplaceScore  GarageScore  TotalBath  AllSF  AllFlrsSF  AllPorchSF  \\\n",
       "0          -0.952        1.108     -1.549 -1.025     -1.229       0.317   \n",
       "1          -0.952       -0.732     -0.906  0.133     -0.349      -0.484   \n",
       "2           0.610        0.016      0.380 -0.000      0.261      -0.503   \n",
       "3           0.610       -0.037      0.380 -0.036      0.210      -0.484   \n",
       "4          -0.952        0.122     -0.263  0.004     -0.448       1.328   \n",
       "5           0.610       -0.169      0.380 -0.183      0.314      -0.026   \n",
       "\n",
       "   HasMasVnr  BoughtOffPlan  \n",
       "0     -0.820         -0.304  \n",
       "1      1.220         -0.304  \n",
       "2     -0.820         -0.304  \n",
       "3      1.220         -0.304  \n",
       "4     -0.820         -0.304  \n",
       "5     -0.820         -0.304  \n",
       "\n",
       "[6 rows x 33 columns]"
      ]
     },
     "execution_count": 17,
     "metadata": {},
     "output_type": "execute_result"
    }
   ],
   "source": [
    "#读取测试数据: \n",
    "testData = pd.read_csv(dpath + 'AmesHouse_FE_DE2_test.csv')\n",
    "testData.head(6) #查看数据的前几行，默认是 5 "
   ]
  },
  {
   "cell_type": "code",
   "execution_count": 19,
   "metadata": {},
   "outputs": [
    {
     "name": "stdout",
     "output_type": "stream",
     "text": [
      "<class 'pandas.core.frame.DataFrame'>\n",
      "RangeIndex: 1459 entries, 0 to 1458\n",
      "Data columns (total 33 columns):\n",
      "Id                1459 non-null int64\n",
      "LotFrontage       1459 non-null float64\n",
      "LotArea           1459 non-null float64\n",
      "LotShape          1459 non-null float64\n",
      "YearBuilt         1459 non-null float64\n",
      "YearRemodAdd      1459 non-null float64\n",
      "MasVnrArea        1459 non-null float64\n",
      "BsmtQual          1459 non-null float64\n",
      "BsmtCond          1459 non-null float64\n",
      "BsmtExposure      1459 non-null float64\n",
      "BsmtFinType1      1459 non-null float64\n",
      "BsmtFinSF1        1459 non-null float64\n",
      "BsmtUnfSF         1459 non-null float64\n",
      "HeatingQC         1459 non-null float64\n",
      "BedroomAbvGr      1459 non-null float64\n",
      "TotRmsAbvGrd      1459 non-null float64\n",
      "Functional        1459 non-null float64\n",
      "GarageYrBlt       1459 non-null float64\n",
      "GarageCars        1459 non-null float64\n",
      "PavedDrive        1459 non-null float64\n",
      "WoodDeckSF        1459 non-null float64\n",
      "OverallGrade      1459 non-null float64\n",
      "GarageGrade       1459 non-null float64\n",
      "ExterGrade        1459 non-null float64\n",
      "KitchenScore      1459 non-null float64\n",
      "FireplaceScore    1459 non-null float64\n",
      "GarageScore       1459 non-null float64\n",
      "TotalBath         1459 non-null float64\n",
      "AllSF             1459 non-null float64\n",
      "AllFlrsSF         1459 non-null float64\n",
      "AllPorchSF        1459 non-null float64\n",
      "HasMasVnr         1459 non-null float64\n",
      "BoughtOffPlan     1459 non-null float64\n",
      "dtypes: float64(32), int64(1)\n",
      "memory usage: 376.2 KB\n"
     ]
    }
   ],
   "source": [
    "testData.info()  #查看数据基本信息，各个特征的数据类型 "
   ]
  },
  {
   "cell_type": "code",
   "execution_count": 20,
   "metadata": {
    "collapsed": true
   },
   "outputs": [],
   "source": [
    "# 从原始数据中分离 testId 和输入特征 testX \n",
    "testId = testData['Id'].values\n",
    "testX = testData.drop('Id', axis = 1)"
   ]
  },
  {
   "cell_type": "markdown",
   "metadata": {
    "collapsed": true
   },
   "source": [
    "## 模型训练\n",
    "### 1. 尝试缺省参数的线性回归：最小二乘"
   ]
  },
  {
   "cell_type": "code",
   "execution_count": 28,
   "metadata": {},
   "outputs": [
    {
     "data": {
      "text/plain": [
       "array([  3044.30050179,   3094.48327574,  -2370.54828466,  13836.3962625 ,\n",
       "         3596.26847827,   5932.76346729,  -2064.67556005,  -1392.14571099,\n",
       "         4993.61350754,    179.60175048,   9013.04217229,    400.88435811,\n",
       "         2271.36611707,  -6880.99512354,   3730.92220983,   4765.35734809,\n",
       "           23.15110329,   2493.73323354,   -707.41710776,   3077.59324865,\n",
       "        10313.73380694,  -1271.66093333,   2731.51325045,  -1916.29779659,\n",
       "         4012.05848346,   5644.4410255 ,   -242.06096071,  20074.40494538,\n",
       "        18386.0263966 ,   2333.38986959,  -3246.16622385,   8659.88526377])"
      ]
     },
     "execution_count": 28,
     "metadata": {},
     "output_type": "execute_result"
    }
   ],
   "source": [
    "# 线性回归\n",
    "#class sklearn.linear_model.LinearRegression(fit_intercept=True, normalize=False, copy_X=True, n_jobs=1)\n",
    "from sklearn.linear_model import LinearRegression\n",
    "\n",
    "# 使用默认配置初始化：各个参数的含义还不明白\n",
    "lr = LinearRegression()\n",
    "\n",
    "# 训练模型参数\n",
    "lr.fit(X_train, y_train)\n",
    "\n",
    "# 预测，下面计算 score 会自动调用 predict\n",
    "lr_y_predict = lr.predict(X_test)\n",
    "lr_y_predict_train = lr.predict(X_train)\n",
    "\n",
    "#显示特征的回归系数\n",
    "lr.coef_"
   ]
  },
  {
   "cell_type": "markdown",
   "metadata": {},
   "source": [
    "#### 1.1 模型评价"
   ]
  },
  {
   "cell_type": "code",
   "execution_count": 29,
   "metadata": {},
   "outputs": [
    {
     "name": "stdout",
     "output_type": "stream",
     "text": [
      "The value of default measurement of LinearRegression on test is 0.869682011358\n",
      "The value of default measurement of LinearRegression on train is 0.867229963932\n"
     ]
    }
   ],
   "source": [
    "# 使用 LinearRegression 模型自带的评估模块（r2_score），并输出评估结果\n",
    "\n",
    "#测试集\n",
    "lrScoreTest = lr.score(X_test, y_test)\n",
    "print('The value of default measurement of LinearRegression on test is', lrScoreTest) \n",
    "\n",
    "#训练集\n",
    "lrScoreTrain = lr.score(X_train, y_train)\n",
    "print('The value of default measurement of LinearRegression on train is', lrScoreTrain) "
   ]
  },
  {
   "cell_type": "code",
   "execution_count": 30,
   "metadata": {},
   "outputs": [
    {
     "data": {
      "text/plain": [
       "<matplotlib.legend.Legend at 0x2bc7f2c2cf8>"
      ]
     },
     "execution_count": 30,
     "metadata": {},
     "output_type": "execute_result"
    },
    {
     "data": {
      "image/png": "[encoded data removed]",
      "text/plain": [
       "<matplotlib.figure.Figure at 0x2bc7fd9e470>"
      ]
     },
     "metadata": {},
     "output_type": "display_data"
    }
   ],
   "source": [
    "#在训练集上观察预测残差的分布，看是否符合模型假设：噪声为0均值的高斯噪声\n",
    "f, ax = plt.subplots(figsize=(7, 5)) \n",
    "f.tight_layout() \n",
    "ax.hist(y_train - lr_y_predict_train,bins=40, label='Residuals Linear', color='b', alpha=.5); \n",
    "ax.set_title(\"Histogram of Residuals\") \n",
    "ax.legend(loc='best') #这个干嘛的？"
   ]
  },
  {
   "cell_type": "markdown",
   "metadata": {},
   "source": [
    "残差分布和高斯分布匹配得很好"
   ]
  },
  {
   "cell_type": "code",
   "execution_count": 31,
   "metadata": {},
   "outputs": [
    {
     "data": {
      "image/png": "[encoded data removed]",
      "text/plain": [
       "<matplotlib.figure.Figure at 0x2bc7fdf7978>"
      ]
     },
     "metadata": {},
     "output_type": "display_data"
    }
   ],
   "source": [
    "#观察预测值与真值的散点图\n",
    "plt.figure(figsize=(8, 6))\n",
    "plt.scatter(y_train, lr_y_predict_train)\n",
    "plt.plot([-3, 3], [-3, 3], '--k')   #数据已经标准化，3倍标准差即可\n",
    "plt.axis('tight')\n",
    "plt.xlabel('True price')\n",
    "plt.ylabel('Predicted price')\n",
    "plt.tight_layout()"
   ]
  },
  {
   "cell_type": "markdown",
   "metadata": {},
   "source": [
    "看上去好像一条直线，略微向上隆起，可能是因为没有对输出值 y 进行标准化。\n",
    "#### 1.2 LinearRegression 模型应用"
   ]
  },
  {
   "cell_type": "code",
   "execution_count": null,
   "metadata": {
    "collapsed": true
   },
   "outputs": [],
   "source": []
  },
  {
   "cell_type": "code",
   "execution_count": 43,
   "metadata": {},
   "outputs": [
    {
     "name": "stdout",
     "output_type": "stream",
     "text": [
      "lr_y_predict_test =  [ 119124.16920843  152622.83619616  199081.61011573 ...,  199317.3896891\n",
      "  118800.79548337  251331.68065119]\n"
     ]
    }
   ],
   "source": [
    "#对测试数据进行预测\n",
    "lr_y_predict_test = lr.predict(testX)\n",
    "print('lr_y_predict_test = ', lr_y_predict_test)\n",
    "\n",
    "#输出预测后的数据\n",
    "testPredict = testData.copy()\n",
    "testPredict['SalePrice'] = lr_y_predict_test\n",
    "testPredict.to_csv(dpath + 'AmesHouse_Predict_LR.csv', index=False)"
   ]
  },
  {
   "cell_type": "code",
   "execution_count": 44,
   "metadata": {},
   "outputs": [
    {
     "name": "stdout",
     "output_type": "stream",
     "text": [
      "<class 'pandas.core.frame.DataFrame'>\n",
      "RangeIndex: 1459 entries, 0 to 1458\n",
      "Data columns (total 34 columns):\n",
      "Id                1459 non-null int64\n",
      "LotFrontage       1459 non-null float64\n",
      "LotArea           1459 non-null float64\n",
      "LotShape          1459 non-null float64\n",
      "YearBuilt         1459 non-null float64\n",
      "YearRemodAdd      1459 non-null float64\n",
      "MasVnrArea        1459 non-null float64\n",
      "BsmtQual          1459 non-null float64\n",
      "BsmtCond          1459 non-null float64\n",
      "BsmtExposure      1459 non-null float64\n",
      "BsmtFinType1      1459 non-null float64\n",
      "BsmtFinSF1        1459 non-null float64\n",
      "BsmtUnfSF         1459 non-null float64\n",
      "HeatingQC         1459 non-null float64\n",
      "BedroomAbvGr      1459 non-null float64\n",
      "TotRmsAbvGrd      1459 non-null float64\n",
      "Functional        1459 non-null float64\n",
      "GarageYrBlt       1459 non-null float64\n",
      "GarageCars        1459 non-null float64\n",
      "PavedDrive        1459 non-null float64\n",
      "WoodDeckSF        1459 non-null float64\n",
      "OverallGrade      1459 non-null float64\n",
      "GarageGrade       1459 non-null float64\n",
      "ExterGrade        1459 non-null float64\n",
      "KitchenScore      1459 non-null float64\n",
      "FireplaceScore    1459 non-null float64\n",
      "GarageScore       1459 non-null float64\n",
      "TotalBath         1459 non-null float64\n",
      "AllSF             1459 non-null float64\n",
      "AllFlrsSF         1459 non-null float64\n",
      "AllPorchSF        1459 non-null float64\n",
      "HasMasVnr         1459 non-null float64\n",
      "BoughtOffPlan     1459 non-null float64\n",
      "SalePrice         1459 non-null float64\n",
      "dtypes: float64(33), int64(1)\n",
      "memory usage: 387.6 KB\n"
     ]
    }
   ],
   "source": [
    "testPredict.info()"
   ]
  },
  {
   "cell_type": "markdown",
   "metadata": {},
   "source": [
    "#### 1.3 线性模型，随机梯度下降优化模型参数"
   ]
  },
  {
   "cell_type": "code",
   "execution_count": 45,
   "metadata": {},
   "outputs": [
    {
     "data": {
      "text/plain": [
       "array([  3066.19866078,   3082.37349017,  -2464.19226904,  13941.54952365,\n",
       "         3704.84562036,   6007.59186547,  -1966.55557506,  -1346.92252393,\n",
       "         5009.46038496,    176.74505995,   9033.71353362,    528.34913272,\n",
       "         2350.57577773,  -6896.91540497,   3827.8946752 ,   4725.74591377,\n",
       "          140.11686337,   2611.3919319 ,   -626.11585156,   3107.37744864,\n",
       "        10389.47048453,  -1200.78169031,   2819.2746608 ,  -1851.36891835,\n",
       "         4111.32833441,   5760.32155635,   -164.96825177,  20173.40663086,\n",
       "        18495.76108299,   2365.87966183,  -3140.94748904,   8709.94302612])"
      ]
     },
     "execution_count": 45,
     "metadata": {},
     "output_type": "execute_result"
    }
   ],
   "source": [
    "# 随机梯度下降一般在大数据集上应用 \n",
    "from sklearn.linear_model import SGDRegressor\n",
    "\n",
    "# 使用默认配置初始化线\n",
    "sgdr = SGDRegressor(max_iter=1000)\n",
    "\n",
    "# 训练：参数估计\n",
    "sgdr.fit(X_train, y_train)\n",
    "\n",
    "# 预测\n",
    "sgdr_y_predict = sgdr.predict(X_test)\n",
    "\n",
    "#显示特征的回归系数\n",
    "sgdr.coef_"
   ]
  },
  {
   "cell_type": "code",
   "execution_count": 46,
   "metadata": {},
   "outputs": [
    {
     "name": "stdout",
     "output_type": "stream",
     "text": [
      "The value of default measurement of SGDRegressor on test is 0.869119737523\n",
      "The value of default measurement of SGDRegressor on train is 0.866976033142\n",
      "sgdrScoreTest - lrScoreTest =  -0.000562273834597\n",
      "sgdrScoreTrain - lrScoreTrain =  -0.000253930790153\n"
     ]
    }
   ],
   "source": [
    "# 使用 SGDRegressor 模型自带的评估模块，并输出评估结果\n",
    "#测试集\n",
    "sgdrScoreTest = sgdr.score(X_test, y_test)\n",
    "print('The value of default measurement of SGDRegressor on test is', sgdrScoreTest) \n",
    "\n",
    "#训练集\n",
    "sgdrScoreTrain = sgdr.score(X_train, y_train)\n",
    "print('The value of default measurement of SGDRegressor on train is', sgdrScoreTrain)\n",
    "\n",
    "print('sgdrScoreTest - lrScoreTest = ', sgdrScoreTest - lrScoreTest)\n",
    "print('sgdrScoreTrain - lrScoreTrain = ', sgdrScoreTrain - lrScoreTrain)"
   ]
  },
  {
   "cell_type": "markdown",
   "metadata": {},
   "source": [
    "这里由于样本数不多，SGDRegressor 可能不如 LinearRegression。 \n",
    "\n",
    "sklearn 建议样本数超过 10 万采用 SGDRegressor\n",
    "\n",
    "训练集上的评分比 LinearRegression 低一点点。\n",
    "\n",
    "测试集上的评分比 LinearRegression 高一点点。泛化能力更强？需要进一步验证"
   ]
  },
  {
   "cell_type": "markdown",
   "metadata": {},
   "source": [
    "#### 1.4  SGDRegressor 模型应用"
   ]
  },
  {
   "cell_type": "code",
   "execution_count": 52,
   "metadata": {},
   "outputs": [
    {
     "name": "stdout",
     "output_type": "stream",
     "text": [
      "sgdr_y_predict_test =  [ 117712.58484938  151894.11963583  199271.59084834 ...,  198974.29512784\n",
      "  117356.23689992  252303.16992271]\n"
     ]
    }
   ],
   "source": [
    "#对测试数据进行预测\n",
    "sgdr_y_predict_test = sgdr.predict(testX)\n",
    "print('sgdr_y_predict_test = ', sgdr_y_predict_test)\n",
    "\n",
    "#输出预测后的数据\n",
    "testPredict = testData.copy()\n",
    "testPredict['SalePrice'] = sgdr_y_predict_test\n",
    "testPredict.to_csv(dpath + 'AmesHouse_Predict_sgdr.csv', index=False)"
   ]
  },
  {
   "cell_type": "markdown",
   "metadata": {},
   "source": [
    "### 2 正则化的线性回归（L2正则 --> 岭回归）"
   ]
  },
  {
   "cell_type": "code",
   "execution_count": 49,
   "metadata": {},
   "outputs": [
    {
     "data": {
      "text/plain": [
       "RidgeCV(alphas=[0.01, 0.1, 1, 10, 20, 40, 80, 100], cv=None,\n",
       "    fit_intercept=True, gcv_mode=None, normalize=False, scoring=None,\n",
       "    store_cv_values=True)"
      ]
     },
     "execution_count": 49,
     "metadata": {},
     "output_type": "execute_result"
    }
   ],
   "source": [
    "#岭回归／L2正则\n",
    "from sklearn.linear_model import RidgeCV\n",
    "\n",
    "#正则项的参数\n",
    "alphas = [0.01, 0.1, 1, 10, 20, 40, 80,100]\n",
    "\n",
    "#创建岭回归模块实例\n",
    "reg = RidgeCV(alphas=alphas, store_cv_values=True)\n",
    "\n",
    "#进行模型训练\n",
    "reg.fit(X_train, y_train)"
   ]
  },
  {
   "cell_type": "markdown",
   "metadata": {},
   "source": [
    "#### 2.1 岭回归模型评价"
   ]
  },
  {
   "cell_type": "code",
   "execution_count": 50,
   "metadata": {},
   "outputs": [
    {
     "data": {
      "image/png": "[encoded data removed]",
      "text/plain": [
       "<matplotlib.figure.Figure at 0x2bc7fa7f780>"
      ]
     },
     "metadata": {},
     "output_type": "display_data"
    },
    {
     "data": {
      "image/png": "[encoded data removed]",
      "text/plain": [
       "<matplotlib.figure.Figure at 0x2bc7ffd3cf8>"
      ]
     },
     "metadata": {},
     "output_type": "display_data"
    },
    {
     "name": "stdout",
     "output_type": "stream",
     "text": [
      "alpha is: 20.0\n"
     ]
    },
    {
     "data": {
      "text/plain": [
       "array([  3042.73186188,   3123.69670449,  -2407.68723955,  12504.18053507,\n",
       "         3647.17354458,   5909.36521184,  -1532.71358393,  -1432.38898637,\n",
       "         4977.76132101,    216.05629491,   9288.92314446,    976.08311132,\n",
       "         2281.14339735,  -6452.87598655,   4070.24096307,   4619.25039282,\n",
       "          428.50866749,   2811.02245316,   -428.36515364,   3072.65548521,\n",
       "        10105.32381837,  -1166.47136103,   2799.96034049,  -1641.81517022,\n",
       "         4250.34411935,   5496.56194997,    349.86306081,  18944.24797457,\n",
       "        17625.53426113,   2350.772471  ,  -2937.39552092,   8564.25681194])"
      ]
     },
     "execution_count": 50,
     "metadata": {},
     "output_type": "execute_result"
    }
   ],
   "source": [
    "#均方误差 axis=0 什么意思？帮助文档里面没有\n",
    "mse_mean = np.mean(reg.cv_values_, axis=0)\n",
    "\n",
    "#正则项参数取对数， mse_mean.reshape() 干什么的？\n",
    "plt.plot(np.log10(alphas), mse_mean.reshape(len(alphas), 1))\n",
    "plt.show() #绘制在一张图上，显示异常，暂时分开 \n",
    "\n",
    "#这个语句看不懂\n",
    "plt.plot(np.log10(reg.alpha_)*np.ones(3), [7.85, 7.86, 7.87])\n",
    "\n",
    "plt.xlabel('log(alpha)')\n",
    "plt.ylabel('mse')\n",
    "\n",
    "plt.show()\n",
    "print('alpha is:', reg.alpha_)\n",
    "#显示特征的回归系数\n",
    "reg.coef_"
   ]
  },
  {
   "cell_type": "markdown",
   "metadata": {},
   "source": [
    "可以看出，最佳的 alpha 是 20 log(alpha) = 1.30\n",
    "#### 2.2 岭回归 模型与 LinearRegression 的比较"
   ]
  },
  {
   "cell_type": "code",
   "execution_count": 51,
   "metadata": {},
   "outputs": [
    {
     "name": "stdout",
     "output_type": "stream",
     "text": [
      "The value of default measurement of RidgeRegression on test is 0.86916998119\n",
      "The value of default measurement of RidgeRegression on train is 0.867061550664\n",
      "ridgeScoreTest - lrScoreTest =  -0.00051203016728\n",
      "ridgeScoreTrain - lrScoreTrain =  -0.000168413268722\n"
     ]
    }
   ],
   "source": [
    "# 使用 RidgeCV 模型自带的评估模块（r2_score），并输出评估结果\n",
    "\n",
    "#测试集\n",
    "ridgeScoreTest = reg.score(X_test, y_test)\n",
    "print('The value of default measurement of RidgeRegression on test is', ridgeScoreTest) \n",
    "\n",
    "#训练集\n",
    "ridgeScoreTrain = reg.score(X_train, y_train)\n",
    "print('The value of default measurement of RidgeRegression on train is', ridgeScoreTrain) \n",
    "\n",
    "print('ridgeScoreTest - lrScoreTest = ', ridgeScoreTest - lrScoreTest)\n",
    "print('ridgeScoreTrain - lrScoreTrain = ', ridgeScoreTrain - lrScoreTrain)"
   ]
  },
  {
   "cell_type": "markdown",
   "metadata": {},
   "source": [
    "训练集上的评分比 LinearRegression 低  0.00051\n",
    "\n",
    "测试集上的评分比 LinearRegression 低 0.00017\n",
    "\n",
    "所以，对这个数据集，岭回归不如线性回归。"
   ]
  },
  {
   "cell_type": "markdown",
   "metadata": {},
   "source": [
    "#### 2.3 岭回归 模型应用"
   ]
  },
  {
   "cell_type": "code",
   "execution_count": 53,
   "metadata": {},
   "outputs": [
    {
     "name": "stdout",
     "output_type": "stream",
     "text": [
      "ridge_y_predict_test =  [ 117691.29853046  152405.77749661  198450.52855627 ...,  199525.66813808\n",
      "  118270.38597697  250770.1664177 ]\n"
     ]
    }
   ],
   "source": [
    "#对测试数据进行预测\n",
    "ridge_y_predict_test = reg.predict(testX)\n",
    "print('ridge_y_predict_test = ', ridge_y_predict_test)\n",
    "\n",
    "#输出预测后的数据\n",
    "testPredict = testData.copy()\n",
    "testPredict['SalePrice'] = ridge_y_predict_test\n",
    "testPredict.to_csv(dpath + 'AmesHouse_Predict_ridge.csv', index=False)"
   ]
  },
  {
   "cell_type": "markdown",
   "metadata": {},
   "source": [
    "### 3 正则化的线性回归（L1正则 --> Lasso）"
   ]
  },
  {
   "cell_type": "code",
   "execution_count": 54,
   "metadata": {},
   "outputs": [
    {
     "data": {
      "text/plain": [
       "LassoCV(alphas=[0.01, 0.1, 1, 10, 100, 150, 200, 300, 400, 500, 700, 900],\n",
       "    copy_X=True, cv=None, eps=0.001, fit_intercept=True, max_iter=1000,\n",
       "    n_alphas=100, n_jobs=1, normalize=False, positive=False,\n",
       "    precompute='auto', random_state=None, selection='cyclic', tol=0.0001,\n",
       "    verbose=False)"
      ]
     },
     "execution_count": 54,
     "metadata": {},
     "output_type": "execute_result"
    }
   ],
   "source": [
    "# Lasso／L1正则\n",
    "from sklearn.linear_model import LassoCV\n",
    "\n",
    "#正则项系数\n",
    "alphas = [0.01, 0.1, 1, 10, 100, 150, 200, 300, 400, 500, 700, 900]\n",
    "\n",
    "# Lasso 模型实例\n",
    "lasso = LassoCV(alphas=alphas)\n",
    "\n",
    "#进行模型训练\n",
    "lasso.fit(X_train, y_train)"
   ]
  },
  {
   "cell_type": "markdown",
   "metadata": {},
   "source": [
    "#### 3.1 Lasso 模型评价"
   ]
  },
  {
   "cell_type": "code",
   "execution_count": 55,
   "metadata": {},
   "outputs": [
    {
     "data": {
      "image/png": "[encoded data removed]",
      "text/plain": [
       "<matplotlib.figure.Figure at 0x2bc7ff6f320>"
      ]
     },
     "metadata": {},
     "output_type": "display_data"
    },
    {
     "data": {
      "image/png": "[encoded data removed]",
      "text/plain": [
       "<matplotlib.figure.Figure at 0x2bc02b5bd68>"
      ]
     },
     "metadata": {},
     "output_type": "display_data"
    },
    {
     "name": "stdout",
     "output_type": "stream",
     "text": [
      "alpha is: 200.0\n"
     ]
    },
    {
     "data": {
      "text/plain": [
       "array([  2901.42684215,   3031.68529124,  -2265.19388837,  12644.07794971,\n",
       "         3445.42404432,   5504.41287077,   -972.03517474,  -1256.59306524,\n",
       "         4897.96672252,      0.        ,   8585.47717218,     -0.        ,\n",
       "         2172.68735425,  -6163.24134887,   3090.19906461,   4583.74634296,\n",
       "           56.09780548,   2426.48367821,   -287.71291731,   2898.70031572,\n",
       "        10106.36712527,   -951.73492973,   2456.0887779 ,  -1073.41412603,\n",
       "         4015.30031789,   5457.29716962,      0.        ,  20659.69251126,\n",
       "        17702.34213608,   2104.62156044,  -2428.46852896,   8631.35775916])"
      ]
     },
     "execution_count": 55,
     "metadata": {},
     "output_type": "execute_result"
    }
   ],
   "source": [
    "#均方误差 axis=1 为什么？\n",
    "mses = np.mean(lasso.mse_path_, axis=1)\n",
    "\n",
    "#plt.plot(np.log10(alphas), mses)\n",
    "plt.plot(np.log10(lasso.alphas_), mses)\n",
    "plt.show()  #绘制在一张图上，显示异常，暂时分开 \n",
    "\n",
    "plt.plot(np.log10(lasso.alpha_)*np.ones(3), [0.3, 0.4, 1.0])\n",
    "plt.xlabel('log(alpha)')\n",
    "plt.ylabel('mse')\n",
    "plt.show() \n",
    "\n",
    "print ('alpha is:', lasso.alpha_)\n",
    "#显示特征的回归系数\n",
    "lasso.coef_"
   ]
  },
  {
   "cell_type": "markdown",
   "metadata": {},
   "source": [
    "经过调试，发现最佳参数 alpha = 200.0  log(alpha) = 2.30\n",
    "#### 3.2 Lasso 模型与 LinearRegression 的比较"
   ]
  },
  {
   "cell_type": "code",
   "execution_count": 56,
   "metadata": {},
   "outputs": [
    {
     "name": "stdout",
     "output_type": "stream",
     "text": [
      "The value of default measurement of Lasso on test is 0.86827740127\n",
      "The value of default measurement of Lasso on train is 0.866902001861\n",
      "lassoScoreTest - lrScoreTest =  -0.00140461008725\n",
      "lassoScoreTrain - lrScoreTrain =  -0.000327962071065\n"
     ]
    }
   ],
   "source": [
    "# 使用 Lasso 模型自带的评估模块（r2_score），并输出评估结果\n",
    "\n",
    "#测试集\n",
    "lassoScoreTest = lasso.score(X_test, y_test)\n",
    "print('The value of default measurement of Lasso on test is', lassoScoreTest) \n",
    "\n",
    "#训练集\n",
    "lassoScoreTrain = lasso.score(X_train, y_train)\n",
    "print('The value of default measurement of Lasso on train is', lassoScoreTrain) \n",
    "\n",
    "print('lassoScoreTest - lrScoreTest = ', lassoScoreTest - lrScoreTest)\n",
    "print('lassoScoreTrain - lrScoreTrain = ', lassoScoreTrain - lrScoreTrain)"
   ]
  },
  {
   "cell_type": "code",
   "execution_count": null,
   "metadata": {
    "collapsed": true
   },
   "outputs": [],
   "source": [
    "训练集上的评分比 LinearRegression 低  0.0014\n",
    "\n",
    "测试集上的评分比 LinearRegression 低 0.00032\n",
    "\n",
    "所以，对这个数据集，Lasso 模型不如 LinearRegression "
   ]
  },
  {
   "cell_type": "markdown",
   "metadata": {},
   "source": [
    "#### 3.3 Lasso 模型应用"
   ]
  },
  {
   "cell_type": "code",
   "execution_count": 57,
   "metadata": {},
   "outputs": [
    {
     "name": "stdout",
     "output_type": "stream",
     "text": [
      "lasso_y_predict_test =  [ 117920.26850129  154368.67775011  198053.7969296  ...,  197316.31906726\n",
      "  118176.40959105  250313.76362916]\n"
     ]
    }
   ],
   "source": [
    "#对测试数据进行预测\n",
    "lasso_y_predict_test = lasso.predict(testX)\n",
    "print('lasso_y_predict_test = ', lasso_y_predict_test)\n",
    "\n",
    "#输出预测后的数据\n",
    "testPredict = testData.copy()\n",
    "testPredict['SalePrice'] = lasso_y_predict_test\n",
    "testPredict.to_csv(dpath + 'AmesHouse_Predict_lasso.csv', index=False)"
   ]
  },
  {
   "cell_type": "code",
   "execution_count": null,
   "metadata": {
    "collapsed": true
   },
   "outputs": [],
   "source": []
  }
 ],
 "metadata": {
  "kernelspec": {
   "display_name": "Python 3",
   "language": "python",
   "name": "python3"
  },
  "language_info": {
   "codemirror_mode": {
    "name": "ipython",
    "version": 3
   },
   "file_extension": ".py",
   "mimetype": "text/x-python",
   "name": "python",
   "nbconvert_exporter": "python",
   "pygments_lexer": "ipython3",
   "version": "3.6.3"
  }
 },
 "nbformat": 4,
 "nbformat_minor": 2
}
